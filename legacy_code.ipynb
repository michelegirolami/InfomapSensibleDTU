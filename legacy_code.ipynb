{
 "cells": [
  {
   "cell_type": "code",
   "execution_count": 2,
   "metadata": {
    "collapsed": false
   },
   "outputs": [],
   "source": [
    "def draw_multiplex_network_communities(layers,k_):\n",
    "    \n",
    "    layer12_concat = pd.concat(layers,axis=0)\n",
    "    nodes, edges = network_reformat(layer12_concat, weighted=True, output_format='graph',node_format=\"hash\")\n",
    "    \n",
    "    hash_to_int = dict(zip(nodes,range(len(nodes))))\n",
    "    int_to_hash = dict(zip(range(len(nodes)),nodes))\n",
    "    \n",
    "    G = nx.Graph()\n",
    "    G.add_nodes_from([hash_to_int[n] for n in nodes])\n",
    "    G.add_weighted_edges_from([(hash_to_int[i],hash_to_int[j], w) for i,j,w in edges])\n",
    "    #nx.set_node_attributes(G, 'community', node_communities)\n",
    "    \n",
    "    \n",
    "    node_communities = [set([hash_to_int[n] for n in c]) for c in community_detection_multiplex(*layers)]\n",
    "    \n",
    "    \n",
    "    return node_communities\n",
    "    \n",
    "    \n",
    "    \n",
    "    return nx.get_node_attributes(G, 'community')\n",
    "    \n",
    "    # Initialise high-level graph\n",
    "    G_communities = nx.Graph()\n",
    "\n",
    "    community_nodes = list(set(communities))\n",
    "    \n",
    "    # Find edges in the community network (slightly more complicated)\n",
    "    community_edges = {} #Hash table because it makes collapsing edges easier\n",
    "    internal_edges = [0] * num_communities #Counting num of links within each cluster\n",
    "\n",
    "    for (i,j) in G.edges():\n",
    "        \n",
    "        c_i = communities[i]\n",
    "        c_j = communities[j]\n",
    "        \n",
    "        w_ij = G.get_edge_data(i,j)['weight']\n",
    "        \n",
    "        if c_i != c_j:\n",
    "            key = ' '.join([str(num) for num in sorted([c_i,c_j])]) # Example: '1 2'\n",
    "            if key not in community_edges:\n",
    "                community_edges[key] = w_ij\n",
    "            else:\n",
    "                community_edges[key] += w_ij\n",
    "        else:\n",
    "            internal_edges[c_i] += w_ij\n",
    "    \n",
    "    community_edges = [tuple([int(e) for e in k.split(\" \")]+[v]) for (k,v) in community_edges.items()] # Horrible I know..\n",
    "    \n",
    "    G_communities.add_nodes_from(community_nodes)\n",
    "    G_communities.add_weighted_edges_from(community_edges)\n",
    "    \n",
    "    \n",
    "    ###############\n",
    "    # BOILERPLATE #\n",
    "    ###############\n",
    "    \n",
    "    pos = nx.spring_layout(G_communities, k=k_, iterations=10)\n",
    "    \n",
    "    # color map from http://colorbrewer2.org/\n",
    "    cmapLight = colors.ListedColormap(['#a6cee3', '#b2df8a', '#fb9a99', '#fdbf6f', '#cab2d6'], 'indexed', num_communities)\n",
    "    cmapDark = colors.ListedColormap(['#1f78b4', '#33a02c', '#e31a1c', '#ff7f00', '#6a3d9a'], 'indexed', num_communities)\n",
    "\n",
    "    # edges\n",
    "    weights_transformed = np.log(np.array([w for (i,j,w) in community_edges]))**3+100\n",
    "    nx.draw_networkx_edges(G_communities, \n",
    "                           pos,\n",
    "                           width=weights_transformed/max(weights_transformed)\n",
    "    )\n",
    "\n",
    "    # nodes\n",
    "    nodeCollection = nx.draw_networkx_nodes(G_communities,\n",
    "        pos = pos,\n",
    "        node_color = G_communities.nodes(),\n",
    "        cmap = cmapLight,\n",
    "        node_size = ((np.array(internal_edges))*1.85/(np.array(internal_edges)).max()+0.15)*1000\n",
    "    )\n",
    "    # set node border color to the darker shade\n",
    "    darkColors = [cmapDark(v) for v in G_communities.nodes()]\n",
    "    nodeCollection.set_edgecolor(darkColors)\n",
    "    \n",
    "    # Node labels\n",
    "    for n in G_communities.nodes_iter():\n",
    "        plt.annotate(n,\n",
    "            xy = pos[n],\n",
    "            textcoords = 'offset points',\n",
    "            horizontalalignment = 'center',\n",
    "            verticalalignment = 'center',\n",
    "            xytext = [0, 2],\n",
    "            color = cmapDark(n)\n",
    "        )\n",
    "\n",
    "    plt.axis('off')\n",
    "    #plt.savefig(\"netw.png\")\n",
    "    \n",
    "    \n",
    "#draw_multiplex_network_communities([layer1,layer2],k_=2)"
   ]
  },
  {
   "cell_type": "code",
   "execution_count": 29,
   "metadata": {
    "collapsed": false
   },
   "outputs": [],
   "source": [
    "import numpy as np"
   ]
  },
  {
   "cell_type": "code",
   "execution_count": 2,
   "metadata": {
    "collapsed": false
   },
   "outputs": [
    {
     "ename": "ImportError",
     "evalue": "No module named graph_tool",
     "output_type": "error",
     "traceback": [
      "\u001b[0;31m---------------------------------------------------------------------------\u001b[0m",
      "\u001b[0;31mImportError\u001b[0m                               Traceback (most recent call last)",
      "\u001b[0;32m<ipython-input-2-8d4681d01b0c>\u001b[0m in \u001b[0;36m<module>\u001b[0;34m()\u001b[0m\n\u001b[0;32m----> 1\u001b[0;31m \u001b[0;32mfrom\u001b[0m \u001b[0mgraph_tool\u001b[0m \u001b[0;32mimport\u001b[0m \u001b[0;34m*\u001b[0m\u001b[0;34m\u001b[0m\u001b[0m\n\u001b[0m",
      "\u001b[0;31mImportError\u001b[0m: No module named graph_tool"
     ]
    }
   ],
   "source": [
    "from graphtool import *"
   ]
  },
  {
   "cell_type": "markdown",
   "metadata": {},
   "source": []
  }
 ],
 "metadata": {
  "kernelspec": {
   "display_name": "Python 2",
   "language": "python",
   "name": "python2"
  },
  "language_info": {
   "codemirror_mode": {
    "name": "ipython",
    "version": 2
   },
   "file_extension": ".py",
   "mimetype": "text/x-python",
   "name": "python",
   "nbconvert_exporter": "python",
   "pygments_lexer": "ipython2",
   "version": "2.7.10"
  }
 },
 "nbformat": 4,
 "nbformat_minor": 0
}
